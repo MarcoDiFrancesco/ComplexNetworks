{
 "cells": [
  {
   "cell_type": "markdown",
   "metadata": {
    "deletable": false,
    "editable": false,
    "nbgrader": {
     "cell_type": "markdown",
     "checksum": "70bbe5f7c5071a0a4a826c2e9ef18ac7",
     "grade": false,
     "grade_id": "cell-2f7d49e6bc20ba56",
     "locked": true,
     "schema_version": 3,
     "solution": false,
     "task": false
    }
   },
   "source": [
    "# Round 7-1: Weight–topology correlations in social networks\n",
    "\n",
    "In this exercise, we will do some weighted network analysis using a social network data set describing private messaging in a Facebook-like web-page (Data originally from http://toreopsahl.com/datasets/).\n",
    "In the network, each node corresponds to a user of the website and link weights describe the total number of messages exchanged between users. \n",
    "\n",
    "In the file `OClinks_w_undir.edg`, the three entries of each row describe one link:\n",
    "`(node_i node_j w_ij)`, \n",
    "where the last entry `w_ij` is the weight of the link between nodes `node_i` and `node_j`.\n",
    "\n",
    "You can use this Jupyter notebook template to get started. Below, you can find some predefined functions that will be helpful to solve the problems. In most cases, you do not need to modify these functions (but do read them through and get an idea of what each of them are doing so that you can use them in your code). Fast forward and start modifying the code after the header **\"Begin of the exercise\"**. "
   ]
  },
  {
   "cell_type": "code",
   "execution_count": 1,
   "metadata": {},
   "outputs": [],
   "source": [
    "import matplotlib.pyplot as plt\n",
    "import numpy as np\n",
    "import networkx as nx\n",
    "from scipy.stats import binned_statistic"
   ]
  },
  {
   "cell_type": "code",
   "execution_count": 2,
   "metadata": {},
   "outputs": [],
   "source": [
    "def create_linbins(start, end, n_bins):\n",
    "    \"\"\"\n",
    "    Creates a set of linear bins.\n",
    "\n",
    "    Parameters\n",
    "    -----------\n",
    "    start: minimum value of data, int\n",
    "    end: maximum value of data, int\n",
    "    n_bins: number of bins, int\n",
    "\n",
    "    Returns\n",
    "    --------\n",
    "    bins: a list of linear bin edges\n",
    "    \"\"\"\n",
    "    bins = np.linspace(start, end, n_bins)\n",
    "    return bins"
   ]
  },
  {
   "cell_type": "code",
   "execution_count": 3,
   "metadata": {},
   "outputs": [],
   "source": [
    "def create_logbins(start, end, n_log, n_lin=0):\n",
    "    \"\"\"\n",
    "    Creates a combination of linear and logarithmic bins: n_lin linear bins \n",
    "    of width 1 starting from start and n_log logarithmic bins further to\n",
    "    max.\n",
    "\n",
    "    Parameters\n",
    "    -----------\n",
    "    start: starting point for linear bins, float\n",
    "    end: maximum value of data, int\n",
    "    n_log: number of logarithmic bins, int\n",
    "    n_lin: number of linear bins, int\n",
    "\n",
    "    Returns\n",
    "    -------\n",
    "    bins: a list of bin edges\n",
    "    \"\"\"\n",
    "    if n_lin == 0:\n",
    "        bins = np.geomspace(start, end, num=n_log+1)\n",
    "    elif n_lin > 0:\n",
    "        bins = np.array([start + i for i in range(n_lin)] \n",
    "                        + list(np.geomspace(start + n_lin, end, n_log+1)))\n",
    "    return bins"
   ]
  },
  {
   "cell_type": "markdown",
   "metadata": {
    "deletable": false,
    "editable": false,
    "nbgrader": {
     "cell_type": "markdown",
     "checksum": "0bc66251dabca7c2c5e74b0866d33e13",
     "grade": false,
     "grade_id": "cell-55466d6baf6a3ffb",
     "locked": true,
     "schema_version": 3,
     "solution": false,
     "task": false
    }
   },
   "source": [
    "## Data\n",
    "Let us load the data from the right directory and assign the names for all the plots we will save. If you run this notebook in your machine, please specify the right directory."
   ]
  },
  {
   "cell_type": "code",
   "execution_count": 13,
   "metadata": {},
   "outputs": [
    {
     "name": "stdout",
     "output_type": "stream",
     "text": [
      "The data directory is /coursedata\n"
     ]
    }
   ],
   "source": [
    "# Select data directory\n",
    "import os\n",
    "if os.path.isdir('/coursedata'):\n",
    "    course_data_dir = '/coursedata'\n",
    "elif os.path.isdir('../data'):\n",
    "    course_data_dir = '../data'\n",
    "else:\n",
    "    # Specify course_data_dir on your machine\n",
    "    course_data_dir = 'some_path'\n",
    "\n",
    "print('The data directory is %s' % course_data_dir)\n",
    "\n",
    "network_path = os.path.join(course_data_dir, 'OClinks_w_undir.edg')\n",
    "\n",
    "net_name = 'fb_like'\n",
    "# TODO: replace with a path where to save the CCDF plot\n",
    "path = './ccdfs_' + net_name + '.pdf'\n",
    "# TODO: replace with a base path where to save the average link weight scatter\n",
    "# A scale-related suffix will be added to this base path so the figures will not overwritten\n",
    "base_path = './s_per_k_vs_k_'\n",
    "# TODO: replace with a base path where to save the link neighborhood overlap plot\n",
    "save_path_linkneighborhoodplot = './O_vs_w_' + net_name + '.pdf'"
   ]
  },
  {
   "cell_type": "code",
   "execution_count": 18,
   "metadata": {},
   "outputs": [],
   "source": [
    "#Let's read the network file\n",
    "network = nx.read_weighted_edgelist(network_path)"
   ]
  },
  {
   "cell_type": "markdown",
   "metadata": {
    "deletable": false,
    "editable": false,
    "nbgrader": {
     "cell_type": "markdown",
     "checksum": "9f1626a9faf2a1466eda35e34162dbbe",
     "grade": false,
     "grade_id": "cell-361090f1757159ea",
     "locked": true,
     "schema_version": 3,
     "solution": false,
     "task": false
    }
   },
   "source": [
    "# Begin of the exercise\n",
    "Write your code here to analyze the social network dataset. "
   ]
  },
  {
   "cell_type": "markdown",
   "metadata": {
    "deletable": false,
    "editable": false,
    "nbgrader": {
     "cell_type": "markdown",
     "checksum": "6a96eada8d6fafdab7cbc41d806da8f5",
     "grade": false,
     "grade_id": "cell-15cf3d1fca11bf11",
     "locked": true,
     "schema_version": 3,
     "solution": false,
     "task": false
    }
   },
   "source": [
    "### a. Complementary cumulative distribution\n",
    "\n",
    "Before performing a more sophisticated analysis, let us begin with taking a look at some basic network statistics to get a rough idea of what the network is like. To this end, plot the complementary cumulative distribution function (CCDF) for node degree $k$, node strength $s$ and link weight $w$.\n",
    "\n",
    "- Show all three distributions in one plot using loglog-scale.\n",
    "- The resulting distributions have *heavy tails*, meaning that the right part of the distributions decays slower than exponentially. To see this, plot the CCDFs of the exponential distribution with the same mean as each empirical distribution, overlayed on top of the empirical ones in the same figure.\n",
    "- Based visually on the empirical CCDF plots, roughly estimate the 90th percentiles of the degree, strength, and weight distributions. Explain also how they can be read off from the plots."
   ]
  },
  {
   "cell_type": "markdown",
   "metadata": {
    "deletable": false,
    "editable": false,
    "nbgrader": {
     "cell_type": "markdown",
     "checksum": "2b726c82ebdadae8a0324c1c8e627e85",
     "grade": false,
     "grade_id": "cell-d056d2c0fd0880bb",
     "locked": true,
     "schema_version": 3,
     "solution": false,
     "task": false
    }
   },
   "source": [
    "First, let us get the node degrees and strengths.\n",
    "\n",
    "**Coding hints**:\n",
    "\n",
    "- A `nx.Graph` object reports the node degrees of the network through `degree` property, that is, you can access the set of node degrees of a `nx.Graph` object `net` by `net.degree` (or equivalently `net.degree()`).\n",
    "\n",
    "- The node strength is the sum of weights of the links incident to the node, as compared to the degree which is the number of links incident to the node. You can obtain the node strengths using the same `net.degree()` method by passing the `weight` argument as `net.degree(weight='weight')`. Read also here: https://networkx.org/documentation/stable/reference/classes/generated/networkx.Graph.degree.html\n",
    "\n",
    "- Note that the above two functions will return an iterable over the (node, degree) pairs or (node, strength) pairs. In the following, you need to convert this into a list of degrees/strengths.\n",
    "\n",
    "- As a check, calculate the maximum degree $k_\\mathrm{max}$ and maximum strength $s_\\mathrm{max}$. If everything is running okay so far, you should be getting $k_\\mathrm{max}$ = 255 and $s_\\mathrm{max}$ = 1546.0."
   ]
  },
  {
   "cell_type": "code",
   "execution_count": 26,
   "metadata": {
    "deletable": false,
    "nbgrader": {
     "cell_type": "code",
     "checksum": "14d5d3ece0ab6c712dd53393f1c1ce9b",
     "grade": false,
     "grade_id": "cell-ec81e66b7f770b3c",
     "locked": false,
     "schema_version": 3,
     "solution": true,
     "task": false
    }
   },
   "outputs": [
    {
     "name": "stdout",
     "output_type": "stream",
     "text": [
      "Maximum degree: 255\n",
      "Maximum strength: 1546\n"
     ]
    }
   ],
   "source": [
    "# Get the node degrees and strengths\n",
    "\n",
    "# degrees: DegreeView({'1': 35, '2': 5, '3': 178, ...}\n",
    "degrees = network.degree\n",
    "degrees = [val for idx, val in degrees]\n",
    "\n",
    "# strengths: DegreeView({'1': 337.0, '2': 11.0, '3': 467.0, ...} \n",
    "strengths = network.degree(weight='weight')\n",
    "strengths = [val for idx, val in strengths]\n",
    "\n",
    "# Check the maxmimum degree and strength\n",
    "max_degree = max(degrees)\n",
    "max_strength = max(strengths)\n",
    "print('Maximum degree: %d' % max_degree)\n",
    "print('Maximum strength: %d' % max_strength)"
   ]
  },
  {
   "cell_type": "markdown",
   "metadata": {
    "deletable": false,
    "editable": false,
    "nbgrader": {
     "cell_type": "markdown",
     "checksum": "6c259ca9bcd35d3fcecd4916454ece26",
     "grade": false,
     "grade_id": "cell-9846a29e32244412",
     "locked": true,
     "schema_version": 3,
     "solution": false,
     "task": false
    }
   },
   "source": [
    "Next, let us get the link weights.\n",
    "\n",
    "**Coding hints**:\n",
    "\n",
    "- A `nx.Graph` object reports the edges of the network through `edges` property, that is, you can access the set of edges of a `nx.Graph` object `net` by `net.edges` (or equivalently `net.edges()`). \n",
    "- The weight of each link is stored as one of the attributes associated with the link. If you want to obtain the edges of `net` with their link attributes, use `net.edges(data=True)` or `net.edges.data()`. Both of them return the set of tuples `(i, j, data)` for each link `(i, j)` with a dictionary of attributes `data`.\n",
    "- Then the information about the weight is stored as an entry in the dictionary `data`, which means you can access it by `data['weight']`.\n",
    "- You can also skip generating the intermediary object `data` and directly access only the weights of the edges by using `net.edges.data('weight')`.\n",
    "- Read more about using `edges` property here:\n",
    "https://networkx.org/documentation/stable/reference/classes/generated/networkx.Graph.edges.html"
   ]
  },
  {
   "cell_type": "code",
   "execution_count": 45,
   "metadata": {
    "deletable": false,
    "nbgrader": {
     "cell_type": "code",
     "checksum": "2fd4debe3d2e8840461be8fa6ff00020",
     "grade": false,
     "grade_id": "cell-e78e4d37f0071555",
     "locked": false,
     "schema_version": 3,
     "solution": true,
     "task": false
    }
   },
   "outputs": [
    {
     "data": {
      "text/plain": [
       "184.0"
      ]
     },
     "execution_count": 45,
     "metadata": {},
     "output_type": "execute_result"
    }
   ],
   "source": [
    "# TODO: Get the link weights\n",
    "\n",
    "net_data = network.edges.data('weight')\n",
    "# net_data: EdgeDataView([('1', '2', 1.0), ('1', '3', 67.0), ...])\n",
    "weights = [weight for i, j, weight in net_data]\n",
    "# weights: [1.0, 67.0, 6.0, ...]\n",
    "max_weight = max(weights)\n",
    "max_weight"
   ]
  },
  {
   "cell_type": "markdown",
   "metadata": {
    "deletable": false,
    "editable": false,
    "nbgrader": {
     "cell_type": "markdown",
     "checksum": "00ab7449c321d353ec03a7ff4fe66aeb",
     "grade": false,
     "grade_id": "cell-6a6b852478a3dc11",
     "locked": true,
     "schema_version": 3,
     "solution": false,
     "task": false
    }
   },
   "source": [
    "The following `plot_ccdf` function let you create CCDF plots. But you need to modify it first. \n",
    "\n",
    "**Coding hints**:\n",
    "\n",
    "Recall that a complementary cumulative distributions is defined as $P(X \\geq x)$, the proportion of data points equal to or larger than value $x$, as a function of $x$. Especially you should keep in mind the following two points.\n",
    "\n",
    "- $P(X \\geq x)$ is a non-increasing function of $x$ because if you compare two values $x_1$ and $x_2$ where $x_1 \\geq x_2$, you never find more data points above $x_1$ than above $x_2$.\n",
    "\n",
    "- When you sort the data, $P(X \\geq x)$ changes its value at every data point and remains constant between two data points with different values.\n",
    "\n",
    "- See the binning tutorial provided on the course webpage for help on computing the CCDFs (1-CDFs)."
   ]
  },
  {
   "cell_type": "code",
   "execution_count": 54,
   "metadata": {
    "deletable": false,
    "nbgrader": {
     "cell_type": "code",
     "checksum": "84690a427056b32ad43b5a0dc863fcc0",
     "grade": false,
     "grade_id": "cell-fb50dc49af3c95f5",
     "locked": false,
     "schema_version": 3,
     "solution": true,
     "task": false
    }
   },
   "outputs": [
    {
     "data": {
      "image/png": "[encoded data removed]",
      "text/plain": [
       "<Figure size 432x288 with 1 Axes>"
      ]
     },
     "metadata": {
      "needs_background": "light"
     },
     "output_type": "display_data"
    }
   ],
   "source": [
    "def plot_ccdf(datavecs, labels, styles, xlabel, ylabel):\n",
    "    \"\"\"\n",
    "    Plots in a single figure the complementary cumulative distributions (CCDFs)\n",
    "    of the given data vectors.\n",
    "\n",
    "    Parameters\n",
    "    -----------\n",
    "    datavecs: data vectors to plot, a list of iterables\n",
    "              e.g. [35, 5, 178, 31, 20, ...]\n",
    "    labels: labels for the data vectors, list of strings\n",
    "    styles: styles in which plot the distributions, list of strings\n",
    "    xlabel: x label for the figure, string\n",
    "    ylabel: y label for the figure, string\n",
    "    \"\"\"\n",
    "    fig, ax = plt.subplots()\n",
    "    for datavec, label, style in zip(datavecs, labels, styles):\n",
    "        # Calculate CCDF of datavec and plot it\n",
    "        sorted_vals = np.sort(np.unique(datavec))\n",
    "        ccdf = np.zeros(len(sorted_vals))\n",
    "        n = float(len(datavec))\n",
    "        for i, val in enumerate(sorted_vals):\n",
    "            ccdf[i] = np.sum(datavec >= val)/n\n",
    "        ax.plot(sorted_vals, ccdf, \"-\", label=label)\n",
    "\n",
    "    # Use loglog scale\n",
    "    ax.set_xscale('log')\n",
    "    ax.set_yscale('log')\n",
    "    \n",
    "    ax.set_xlabel(xlabel)\n",
    "    ax.set_ylabel(ylabel)\n",
    "    ax.legend(loc=0)\n",
    "    ax.grid()\n",
    "\n",
    "    return fig, ax\n",
    "\n",
    "# Let us plot the empirical CCDFs\n",
    "datavecs = [degrees, strengths, weights]\n",
    "styles = ['-', '--', '-.']\n",
    "\n",
    "labels = ['degree', 'strength', 'weight']\n",
    "xlabel = 'degree/strength/weight'\n",
    "ylabel = 'CCDF'\n",
    "\n",
    "fig_ccdf, ax_ccdf = plot_ccdf(datavecs, labels, styles, xlabel, ylabel)\n"
   ]
  },
  {
   "cell_type": "markdown",
   "metadata": {
    "deletable": false,
    "editable": false,
    "nbgrader": {
     "cell_type": "markdown",
     "checksum": "cc678a01cd39907fafa344edb58c220a",
     "grade": false,
     "grade_id": "cell-21beb830d6f42c6b",
     "locked": true,
     "schema_version": 3,
     "solution": false,
     "task": false
    }
   },
   "source": [
    "Let's use `plot_ccdf()` to actually create the CCDF plots. Also, we plot the CCDFs of exponential distributions with matching mean with each empirical distribution.\n",
    "\n",
    "**Hints**: \n",
    "- The CCDF of an exponential distribution with mean $\\mu$ is given by $\\exp(-x / \\mu)$.\n",
    "- Set the left x-axis limit of the plot to $1 = 10^0$ because all the variables take integer values."
   ]
  },
  {
   "cell_type": "code",
   "execution_count": 201,
   "metadata": {
    "deletable": false,
    "nbgrader": {
     "cell_type": "code",
     "checksum": "111e53ded88fcc6e55245a3fa9fcb2e4",
     "grade": false,
     "grade_id": "cell-636bc96b6f9b2fed",
     "locked": false,
     "schema_version": 3,
     "solution": true,
     "task": false
    }
   },
   "outputs": [
    {
     "data": {
      "text/plain": [
       "(2e-05, 2)"
      ]
     },
     "execution_count": 201,
     "metadata": {},
     "output_type": "execute_result"
    },
    {
     "data": {
      "image/png": "[encoded data removed]",
      "text/plain": [
       "<Figure size 432x288 with 1 Axes>"
      ]
     },
     "metadata": {
      "needs_background": "light"
     },
     "output_type": "display_data"
    }
   ],
   "source": [
    "# Now let us plot the exponential counterparts\n",
    "label_for_exp = ['exponential degree', 'exponential strength', 'exponential weight']\n",
    "maximums = [max_degree, max_strength, max_weight]\n",
    "\n",
    "# Get the mean degree, mean strength, and mean weight\n",
    "import statistics\n",
    "mean_degree = statistics.mean(degrees)\n",
    "mean_strength = statistics.mean(strengths)\n",
    "mean_weight = statistics.mean(weights)\n",
    "\n",
    "means = [mean_degree, mean_strength, mean_weight]\n",
    "\n",
    "fig, ax_ccdf = plt.subplots()\n",
    "\n",
    "# Plot the exponential CCDFs\n",
    "for mean, maximum, label, style in zip(means, maximums, label_for_exp, styles):\n",
    "    r = list(range(int(maximum)))\n",
    "    exp_l = [np.exp(-x/mean) for x in r]\n",
    "    ax_ccdf.plot(exp_l, label=label, linestyle=style)\n",
    "\n",
    "    ax_ccdf.set_xscale('log')\n",
    "    ax_ccdf.set_yscale('log')\n",
    "\n",
    "ax_ccdf.set_xlabel('degree/strength/weight')\n",
    "ax_ccdf.set_ylabel('Exponential CCDF')\n",
    "\n",
    "ax_ccdf.legend()\n",
    "ax_ccdf.set_ylim(bottom=2E-5, top=2)\n",
    "\n",
    "# fig_ccdf.savefig(path)\n",
    "# print('CCDF figure saved to ' + path)"
   ]
  },
  {
   "cell_type": "markdown",
   "metadata": {
    "deletable": false,
    "editable": false,
    "nbgrader": {
     "cell_type": "markdown",
     "checksum": "8569aa6c6542de7c759c513fcc6d3467",
     "grade": false,
     "grade_id": "cell-0abf7bbd0f8039c9",
     "locked": true,
     "schema_version": 3,
     "solution": false,
     "task": false
    }
   },
   "source": [
    "### b. Average link weight per node\n",
    "Next, we will study how the average link weight per node $v =\\frac{s}{k}$ behaves as a function of the node degree $k$. \n",
    "\n",
    "- Compute $s$, $k$, and $v = \\frac{s}{k}$ for each node.\n",
    "\n",
    "- Make a scatter plot of all the data points of $v$ as a function of $k$. Create two versions of the plots: one with linear and one with logarithmic $x$-axes.\n",
    "\n",
    "- The large variance of the data can make the scatter plots a bit messy. To make the relationship between $v$ and $k$ more visible, create bin-averaged versions of the plots, i.e., divide nodes into bins based on their degree and calculate the average $v$ in each bin. Plot the bin-averaged versions on top of the scatter plots.\n",
    "\n",
    "- Based on the plots, which of the two approaches (linear or logarithmic $x$-axes) suits better for presenting $v$ as a function of $k$? Why?\n",
    "\n",
    "**Hints**:\n",
    "- For the bin-averaged plots, use bins that are consistent with the scale of the horizontal axis: bins with constant width for the linear scale and logarithmic bins for the logarithmic scale. If in trouble, see the binning tutorial for help.\n",
    "\n",
    "- An example of how the scatter and bin-averaged plots may look like is shown in Fig.1 of the assignment PDF. Obviously, the number of bins are too few in these plots. Typically, it is better to use too many than too few bins. A good choice for the number of bins in this case would be 20.\n",
    "\n",
    "- In the bin-averaged plot, the size of the points represents the number of nodes in each bin. Check if each degree bin includes roughly the same number of nodes. Unbalanced distribution of observations may obscure the results."
   ]
  },
  {
   "cell_type": "code",
   "execution_count": 174,
   "metadata": {
    "deletable": false,
    "nbgrader": {
     "cell_type": "code",
     "checksum": "7c5b305f50e144fa6a404999b0aa3700",
     "grade": false,
     "grade_id": "cell-51d63949c63191e2",
     "locked": false,
     "schema_version": 3,
     "solution": true,
     "task": false
    }
   },
   "outputs": [
    {
     "name": "stdout",
     "output_type": "stream",
     "text": [
      "[  1.          14.36842105  27.73684211  41.10526316  54.47368421\n",
      "  67.84210526  81.21052632  94.57894737 107.94736842 121.31578947\n",
      " 134.68421053 148.05263158 161.42105263 174.78947368 188.15789474\n",
      " 201.52631579 214.89473684 228.26315789 241.63157895 255.        ]\n"
     ]
    }
   ],
   "source": [
    "# average link weight per node (list or numpy array)\n",
    "av_weight = np.array(strengths) / np.array(degrees)\n",
    "# calculate average link weight per node\n",
    "\n",
    "n_bins = 20\n",
    "n_lin = 20\n",
    "min_deg = min(degrees)\n",
    "max_deg = max(degrees)\n",
    "\n",
    "# Create linear and log bins \n",
    "linbins = create_linbins(min_deg, max_deg, n_bins)\n",
    "logbins = create_logbins(min_deg, max_deg, n_log=n_bins-n_lin, n_lin=n_lin)\n",
    "\n",
    "# Take a look at the logarithmic bins\n",
    "print(linbins)"
   ]
  },
  {
   "cell_type": "code",
   "execution_count": 184,
   "metadata": {
    "deletable": false,
    "nbgrader": {
     "cell_type": "code",
     "checksum": "c336192098deaff1cc824e041ba13ce1",
     "grade": false,
     "grade_id": "cell-24ee818ce92aca86",
     "locked": false,
     "schema_version": 3,
     "solution": true,
     "task": false
    }
   },
   "outputs": [
    {
     "data": {
      "image/png": "[encoded data removed]",
      "text/plain": [
       "<Figure size 432x288 with 1 Axes>"
      ]
     },
     "metadata": {
      "needs_background": "light"
     },
     "output_type": "display_data"
    },
    {
     "data": {
      "image/png": "[encoded data removed]",
      "text/plain": [
       "<Figure size 432x288 with 1 Axes>"
      ]
     },
     "metadata": {
      "needs_background": "light"
     },
     "output_type": "display_data"
    }
   ],
   "source": [
    "alpha = 0.1 # transparency of data points in the scatter\n",
    "\n",
    "# For each of linear and logarithmic versions, the full scatter plot and \n",
    "# the bin-averaged plot can be shown in one figure.\n",
    "\n",
    "for bins, scale in zip([linbins, logbins], ['linear', 'log']):\n",
    "    fig, ax = plt.subplots()\n",
    "    \n",
    "    # Scatter plot all points\n",
    "    ax.scatter(degrees, av_weight, marker='o', color='k', s=1.5, alpha=alpha)\n",
    "    \n",
    "    # bins: [  1.          14.36842105  27.73684211  41.10526316 ... ]\n",
    "    # scale: \"linear\"\n",
    "\n",
    "    # mean 'degree value' of each 'degree bin'\n",
    "    # Use binned_statistic to get mean degree of each bin\n",
    "    degree_bin_means, _, _ = binned_statistic(degrees, degrees, statistic='mean', bins=bins)\n",
    "\n",
    "    # mean 'average link weights' in each 'degree bin'\n",
    "    # Use binned_statistic to get mean of average link weights in each bin\n",
    "    av_weight_bin_means, _, _ = binned_statistic(degrees, av_weight, statistic='mean', bins=bins)\n",
    "\n",
    "    # 'number of points' in each 'degree bin'\n",
    "    # Use binned_statistic to get number of data points in each bin\n",
    "    counts, _, _ = binned_statistic(degrees, degrees, statistic='count', bins=bins)\n",
    "\n",
    "    # Plotting the bin averages\n",
    "    # The marker size is scaled by number of data points in the bin\n",
    "    ax.scatter(degree_bin_means,\n",
    "               av_weight_bin_means,\n",
    "               marker='o',\n",
    "               color='r',\n",
    "               s=2*np.sqrt(counts),\n",
    "               label='binned data')\n",
    "    ax.set_xscale(scale)\n",
    "    min_max = np.array([min_deg, max_deg])\n",
    "    \n",
    "    # Set appropriate labels\n",
    "    ax.set_xlabel('k')\n",
    "    ax.set_ylabel('v')\n",
    "    ax.set_ylim(bottom=0.0)\n",
    "    ax.grid()\n",
    "\n",
    "    ax.legend(loc='best')\n",
    "    plt.suptitle('avg. link weight vs. degree:' + net_name)\n",
    "#     save_path = base_path + scale + '_' + net_name + '.pdf'\n",
    "#     fig.savefig(save_path)\n",
    "#     print('Average link weight scatter saved to ' + save_path)"
   ]
  },
  {
   "cell_type": "markdown",
   "metadata": {
    "deletable": false,
    "editable": false,
    "nbgrader": {
     "cell_type": "markdown",
     "checksum": "ece0e9ca3900c80e0ecba4509d0915e0",
     "grade": false,
     "grade_id": "cell-c218190e96ddd99d",
     "locked": true,
     "schema_version": 3,
     "solution": false,
     "task": false
    }
   },
   "source": [
    "### c. Link neighborhood overlap\n",
    "Let's consider a link between nodes $i$ and $j$. For this link, *link neighborhood overlap* $O_{ij}$ is defined as the fraction of common neighbors of $i$ and $j$ out of all their neighbors: $O_{ij}=\\frac{n_{ij}}{\\left(k_i-1\\right)+\\left(k_j-1\\right)-n_{ij}}.$\n",
    "\n",
    "According to the Granovetter hypothesis, link neighborhood overlap is an increasing function of link weight in social networks. Your task is now to find out whether this is the case also for the present data set by visualizing it in an appropriate way. Use the binning strategy (linear or logarithmic) that is most suitable for this case. \n",
    "\n",
    "- Calculate the link neighborhood overlap for each link. To do this, you will need to modify the `get_link_overlap` function.\n",
    "\n",
    "- Create a scatter plot showing the overlaps as a function of link weight.\n",
    "\n",
    "- As in b), produce also a bin-averaged version of the plot on top of the scatter plot. In doing this, choose a reasonable number of bins, which, in this case, will be between 10 and 30. Specify how many bins you used.\n",
    "\n",
    "- In the end, you should be able to spot a subtle trend in the data. Based on your plot, show if the trend is in accordance with the Granovetter hypothesis."
   ]
  },
  {
   "cell_type": "markdown",
   "metadata": {
    "deletable": false,
    "editable": false,
    "nbgrader": {
     "cell_type": "markdown",
     "checksum": "d65478d205f61e5921dbff65371c5660",
     "grade": false,
     "grade_id": "cell-7e870a64ac795794",
     "locked": true,
     "schema_version": 3,
     "solution": false,
     "task": false
    }
   },
   "source": [
    "**Coding hints**:\n",
    "\n",
    "- For getting common neighbors of two nodes, you can use `set` datatype and `intersection()` method.\n",
    "\n",
    "- Naive implementation of the above definition of $O_{ij}$ will result in ZeroDivisionError for some links. Examine for what kind of links this happens. What would be the appropriate way to define $O_{ij}$ for those links?"
   ]
  },
  {
   "cell_type": "code",
   "execution_count": 131,
   "metadata": {
    "deletable": false,
    "nbgrader": {
     "cell_type": "code",
     "checksum": "caedbf8047b9cd92dc28aff6dfa30c61",
     "grade": false,
     "grade_id": "cell-4aaccdb57e0ea06a",
     "locked": false,
     "schema_version": 3,
     "solution": true,
     "task": false
    }
   },
   "outputs": [],
   "source": [
    "def get_link_overlap(net):\n",
    "    \"\"\"\n",
    "    Calculates link overlap: \n",
    "    O_ij = n_ij / [(k_i - 1) + (k_j - 1) - n_ij]\n",
    "\n",
    "    Parameters\n",
    "    -----------\n",
    "    net: a networkx.Graph() object\n",
    "\n",
    "    Returns\n",
    "    --------\n",
    "    overlaps: list of link overlaps in net\n",
    "    \"\"\"\n",
    "    \n",
    "    overlaps = []\n",
    "\n",
    "    \n",
    "    # Write a function to calculate link neighborhood overlap\n",
    "    for i, j in net.edges():\n",
    "        comm_neigh = nx.common_neighbors(net, i, j)\n",
    "        n = len(list(comm_neigh))\n",
    "        denominator = net.degree[i] - 1 + net.degree[j] - 1 - n\n",
    "        # when the nodes A and B form a connected component of the graph.\n",
    "        if denominator == 0:\n",
    "             denominator = 1\n",
    "        o = n / denominator\n",
    "        overlaps.append(o)\n",
    "    return overlaps\n",
    "\n",
    "overlaps = get_link_overlap(network)"
   ]
  },
  {
   "cell_type": "code",
   "execution_count": 132,
   "metadata": {
    "scrolled": false
   },
   "outputs": [
    {
     "data": {
      "text/plain": [
       "13838"
      ]
     },
     "execution_count": 132,
     "metadata": {},
     "output_type": "execute_result"
    }
   ],
   "source": [
    "len(overlaps)"
   ]
  },
  {
   "cell_type": "code",
   "execution_count": 165,
   "metadata": {
    "deletable": false,
    "nbgrader": {
     "cell_type": "code",
     "checksum": "75ec40337677c5074b21e424f9cd7724",
     "grade": false,
     "grade_id": "cell-c65e79762ef7342d",
     "locked": false,
     "schema_version": 3,
     "solution": true,
     "task": false
    }
   },
   "outputs": [
    {
     "name": "stdout",
     "output_type": "stream",
     "text": [
      "[ 1.  2.  3.  4.  5.  6.  7.  8.  9. 10. 11. 12. 13. 14. 15. 16. 17. 18.\n",
      " 19. 20. 21.]\n"
     ]
    },
    {
     "data": {
      "image/png": "[encoded data removed]",
      "text/plain": [
       "<Figure size 432x288 with 1 Axes>"
      ]
     },
     "metadata": {
      "needs_background": "light"
     },
     "output_type": "display_data"
    },
    {
     "name": "stdout",
     "output_type": "stream",
     "text": [
      "Link neighborhood overlap scatter saved as ./O_vs_w_fb_like.pdf\n"
     ]
    }
   ],
   "source": [
    "\n",
    "alpha = 0.1 # transparency of data points in the scatter\n",
    "\n",
    "# creating link neighborhood overlap scatter\n",
    "fig_lno, ax_lno = plt.subplots()\n",
    "\n",
    "# TODO: Change the number of bins to the number you find reasonable between 10 and 30\n",
    "n_bins = 20\n",
    "n_lin = 20\n",
    "min_w = np.min(weights)\n",
    "max_w = np.max(weights)\n",
    "\n",
    "linbins = create_linbins(min_w, max_w, n_bins)\n",
    "logbins = create_logbins(min_w, max_w, n_log=n_bins-n_lin, n_lin=n_lin)\n",
    "print(logbins)\n",
    "\n",
    "# Try both linear and logarithmic bins, select the better one\n",
    "# Specify the scale for axis that is consitent with the binning strategy\n",
    "\n",
    "# for bins, scale in zip([linbins, logbins], ['linear', 'log']):\n",
    "\n",
    "bins = logbins\n",
    "scale = 'log'\n",
    "\n",
    "# mean 'weight value' of each 'weight bin'\n",
    "# Use binned_statistic to get mean weight of each bin\n",
    "weight_bin_means, _, _ = binned_statistic(weights, weights, statistic='mean', bins=bins)\n",
    "\n",
    "# mean 'link neighborhood overlap' of each 'weight bin'\n",
    "# Use binned_statistic to get mean overlap of each bin \n",
    "overlap_bin_means, _, _ = binned_statistic(weights, overlaps, statistic='mean', bins=bins)\n",
    "\n",
    "# 'number of points' in each 'weigth bin'\n",
    "# Use binned_statistic to get number of data points\n",
    "counts, _, _ = binned_statistic(weights, weights, statistic='count', bins=bins)\n",
    "\n",
    "\n",
    "# plotting all points (overlap)\n",
    "ax_lno.scatter(weights, overlaps, marker=\"o\", color='k', s=1.5, alpha=alpha)\n",
    "# plotting bin average, marker size scaled by number of data points in the bin\n",
    "ax_lno.scatter(weight_bin_means,\n",
    "           overlap_bin_means,\n",
    "           s=1.5*np.sqrt(counts),\n",
    "           marker='o',\n",
    "           color='r')\n",
    "\n",
    "ax_lno.set_xscale(scale)\n",
    "ax_lno.set_yscale('log')\n",
    "ax_lno.set_ylim(bottom=0.01)\n",
    "ax_lno.grid()\n",
    "\n",
    "#TODO: Set appropriate labels\n",
    "ax_lno.set_xlabel('Link weight')\n",
    "ax_lno.set_ylabel('Overlap')\n",
    "ax_lno.text(0.95, 0.95, \"number of bins:\" + str(n_bins), \n",
    "        horizontalalignment='right', verticalalignment='top', \n",
    "        backgroundcolor='w', transform=ax_lno.transAxes)\n",
    "\n",
    "fig_lno.suptitle('Overlap vs. weight:' + net_name)\n",
    "plt.show()\n",
    "print('Link neighborhood overlap scatter saved as ' + save_path_linkneighborhoodplot)"
   ]
  }
 ],
 "metadata": {
  "kernelspec": {
   "display_name": "Python 3",
   "language": "python",
   "name": "python3"
  },
  "language_info": {
   "codemirror_mode": {
    "name": "ipython",
    "version": 3
   },
   "file_extension": ".py",
   "mimetype": "text/x-python",
   "name": "python",
   "nbconvert_exporter": "python",
   "pygments_lexer": "ipython3",
   "version": "3.9.5"
  },
  "vscode": {
   "interpreter": {
    "hash": "b0fa6594d8f4cbf19f97940f81e996739fb7646882a419484c72d19e05852a7e"
   }
  }
 },
 "nbformat": 4,
 "nbformat_minor": 2
}
